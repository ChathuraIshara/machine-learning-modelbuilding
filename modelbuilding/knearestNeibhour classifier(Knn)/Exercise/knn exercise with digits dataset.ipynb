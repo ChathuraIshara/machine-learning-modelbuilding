{
 "cells": [
  {
   "cell_type": "code",
   "execution_count": 2,
   "id": "b8e3eff0",
   "metadata": {},
   "outputs": [],
   "source": [
    "import pandas as pd\n",
    "from sklearn.datasets import load_digits\n",
    "from sklearn.model_selection import train_test_split\n",
    "from sklearn.neighbors import KNeighborsClassifier\n",
    "import matplotlib.pyplot as plt\n",
    "from sklearn.model_selection import GridSearchCV"
   ]
  },
  {
   "cell_type": "code",
   "execution_count": 3,
   "id": "d6825405",
   "metadata": {},
   "outputs": [],
   "source": [
    "digits=load_digits()"
   ]
  },
  {
   "cell_type": "code",
   "execution_count": 4,
   "id": "797a3df8",
   "metadata": {},
   "outputs": [
    {
     "data": {
      "text/plain": [
       "1437"
      ]
     },
     "execution_count": 4,
     "metadata": {},
     "output_type": "execute_result"
    }
   ],
   "source": [
    "xtrain,xtest,ytrain,ytest=train_test_split(digits.data,digits.target,test_size=0.2)\n",
    "len(xtrain)"
   ]
  },
  {
   "cell_type": "code",
   "execution_count": 10,
   "id": "fe769767",
   "metadata": {},
   "outputs": [
    {
     "data": {
      "text/html": [
       "<style>#sk-container-id-2 {color: black;}#sk-container-id-2 pre{padding: 0;}#sk-container-id-2 div.sk-toggleable {background-color: white;}#sk-container-id-2 label.sk-toggleable__label {cursor: pointer;display: block;width: 100%;margin-bottom: 0;padding: 0.3em;box-sizing: border-box;text-align: center;}#sk-container-id-2 label.sk-toggleable__label-arrow:before {content: \"▸\";float: left;margin-right: 0.25em;color: #696969;}#sk-container-id-2 label.sk-toggleable__label-arrow:hover:before {color: black;}#sk-container-id-2 div.sk-estimator:hover label.sk-toggleable__label-arrow:before {color: black;}#sk-container-id-2 div.sk-toggleable__content {max-height: 0;max-width: 0;overflow: hidden;text-align: left;background-color: #f0f8ff;}#sk-container-id-2 div.sk-toggleable__content pre {margin: 0.2em;color: black;border-radius: 0.25em;background-color: #f0f8ff;}#sk-container-id-2 input.sk-toggleable__control:checked~div.sk-toggleable__content {max-height: 200px;max-width: 100%;overflow: auto;}#sk-container-id-2 input.sk-toggleable__control:checked~label.sk-toggleable__label-arrow:before {content: \"▾\";}#sk-container-id-2 div.sk-estimator input.sk-toggleable__control:checked~label.sk-toggleable__label {background-color: #d4ebff;}#sk-container-id-2 div.sk-label input.sk-toggleable__control:checked~label.sk-toggleable__label {background-color: #d4ebff;}#sk-container-id-2 input.sk-hidden--visually {border: 0;clip: rect(1px 1px 1px 1px);clip: rect(1px, 1px, 1px, 1px);height: 1px;margin: -1px;overflow: hidden;padding: 0;position: absolute;width: 1px;}#sk-container-id-2 div.sk-estimator {font-family: monospace;background-color: #f0f8ff;border: 1px dotted black;border-radius: 0.25em;box-sizing: border-box;margin-bottom: 0.5em;}#sk-container-id-2 div.sk-estimator:hover {background-color: #d4ebff;}#sk-container-id-2 div.sk-parallel-item::after {content: \"\";width: 100%;border-bottom: 1px solid gray;flex-grow: 1;}#sk-container-id-2 div.sk-label:hover label.sk-toggleable__label {background-color: #d4ebff;}#sk-container-id-2 div.sk-serial::before {content: \"\";position: absolute;border-left: 1px solid gray;box-sizing: border-box;top: 0;bottom: 0;left: 50%;z-index: 0;}#sk-container-id-2 div.sk-serial {display: flex;flex-direction: column;align-items: center;background-color: white;padding-right: 0.2em;padding-left: 0.2em;position: relative;}#sk-container-id-2 div.sk-item {position: relative;z-index: 1;}#sk-container-id-2 div.sk-parallel {display: flex;align-items: stretch;justify-content: center;background-color: white;position: relative;}#sk-container-id-2 div.sk-item::before, #sk-container-id-2 div.sk-parallel-item::before {content: \"\";position: absolute;border-left: 1px solid gray;box-sizing: border-box;top: 0;bottom: 0;left: 50%;z-index: -1;}#sk-container-id-2 div.sk-parallel-item {display: flex;flex-direction: column;z-index: 1;position: relative;background-color: white;}#sk-container-id-2 div.sk-parallel-item:first-child::after {align-self: flex-end;width: 50%;}#sk-container-id-2 div.sk-parallel-item:last-child::after {align-self: flex-start;width: 50%;}#sk-container-id-2 div.sk-parallel-item:only-child::after {width: 0;}#sk-container-id-2 div.sk-dashed-wrapped {border: 1px dashed gray;margin: 0 0.4em 0.5em 0.4em;box-sizing: border-box;padding-bottom: 0.4em;background-color: white;}#sk-container-id-2 div.sk-label label {font-family: monospace;font-weight: bold;display: inline-block;line-height: 1.2em;}#sk-container-id-2 div.sk-label-container {text-align: center;}#sk-container-id-2 div.sk-container {/* jupyter's `normalize.less` sets `[hidden] { display: none; }` but bootstrap.min.css set `[hidden] { display: none !important; }` so we also need the `!important` here to be able to override the default hidden behavior on the sphinx rendered scikit-learn.org. See: https://github.com/scikit-learn/scikit-learn/issues/21755 */display: inline-block !important;position: relative;}#sk-container-id-2 div.sk-text-repr-fallback {display: none;}</style><div id=\"sk-container-id-2\" class=\"sk-top-container\"><div class=\"sk-text-repr-fallback\"><pre>KNeighborsClassifier(n_neighbors=1)</pre><b>In a Jupyter environment, please rerun this cell to show the HTML representation or trust the notebook. <br />On GitHub, the HTML representation is unable to render, please try loading this page with nbviewer.org.</b></div><div class=\"sk-container\" hidden><div class=\"sk-item\"><div class=\"sk-estimator sk-toggleable\"><input class=\"sk-toggleable__control sk-hidden--visually\" id=\"sk-estimator-id-2\" type=\"checkbox\" checked><label for=\"sk-estimator-id-2\" class=\"sk-toggleable__label sk-toggleable__label-arrow\">KNeighborsClassifier</label><div class=\"sk-toggleable__content\"><pre>KNeighborsClassifier(n_neighbors=1)</pre></div></div></div></div></div>"
      ],
      "text/plain": [
       "KNeighborsClassifier(n_neighbors=1)"
      ]
     },
     "execution_count": 10,
     "metadata": {},
     "output_type": "execute_result"
    }
   ],
   "source": [
    "knn=KNeighborsClassifier(n_neighbors=1)\n",
    "knn.fit(xtrain,ytrain)"
   ]
  },
  {
   "cell_type": "code",
   "execution_count": 11,
   "id": "ab92f422",
   "metadata": {},
   "outputs": [
    {
     "data": {
      "text/plain": [
       "0.9888888888888889"
      ]
     },
     "execution_count": 11,
     "metadata": {},
     "output_type": "execute_result"
    }
   ],
   "source": [
    "knn.score(xtest,ytest)"
   ]
  },
  {
   "cell_type": "code",
   "execution_count": 7,
   "id": "eb42edb8",
   "metadata": {},
   "outputs": [
    {
     "data": {
      "text/plain": [
       "{'mean_fit_time': array([0.00232425, 0.00039883, 0.00312433, 0.        , 0.        ,\n",
       "        0.        , 0.        , 0.        , 0.00020394, 0.00059795]),\n",
       " 'std_fit_time': array([0.00364856, 0.00048846, 0.00624866, 0.        , 0.        ,\n",
       "        0.        , 0.        , 0.        , 0.00040789, 0.00048823]),\n",
       " 'mean_score_time': array([0.00491614, 0.00439367, 0.00430527, 0.00412464, 0.00624857,\n",
       "        0.00624843, 0.00626702, 0.00312471, 0.00728965, 0.005725  ]),\n",
       " 'std_score_time': array([0.00478422, 0.00224289, 0.00610659, 0.00607179, 0.0076529 ,\n",
       "        0.00765273, 0.00767556, 0.00624943, 0.00506785, 0.00191491]),\n",
       " 'param_n_neighbors': masked_array(data=[1, 2, 3, 4, 5, 6, 7, 8, 9, 10],\n",
       "              mask=[False, False, False, False, False, False, False, False,\n",
       "                    False, False],\n",
       "        fill_value='?',\n",
       "             dtype=object),\n",
       " 'params': [{'n_neighbors': 1},\n",
       "  {'n_neighbors': 2},\n",
       "  {'n_neighbors': 3},\n",
       "  {'n_neighbors': 4},\n",
       "  {'n_neighbors': 5},\n",
       "  {'n_neighbors': 6},\n",
       "  {'n_neighbors': 7},\n",
       "  {'n_neighbors': 8},\n",
       "  {'n_neighbors': 9},\n",
       "  {'n_neighbors': 10}],\n",
       " 'split0_test_score': array([0.98263889, 0.97916667, 0.98611111, 0.98611111, 0.98611111,\n",
       "        0.98611111, 0.98611111, 0.98611111, 0.97916667, 0.97569444]),\n",
       " 'split1_test_score': array([0.99305556, 0.98958333, 0.98611111, 0.97222222, 0.98263889,\n",
       "        0.98263889, 0.98263889, 0.98263889, 0.98263889, 0.98263889]),\n",
       " 'split2_test_score': array([0.9825784 , 0.9825784 , 0.9825784 , 0.9825784 , 0.97909408,\n",
       "        0.9825784 , 0.9825784 , 0.9825784 , 0.9825784 , 0.97560976]),\n",
       " 'split3_test_score': array([0.98606272, 0.98954704, 0.98954704, 0.98606272, 0.9825784 ,\n",
       "        0.9825784 , 0.9825784 , 0.97909408, 0.97909408, 0.97560976]),\n",
       " 'split4_test_score': array([0.98606272, 0.98606272, 0.98606272, 0.97909408, 0.9825784 ,\n",
       "        0.97909408, 0.97909408, 0.97909408, 0.9825784 , 0.97909408]),\n",
       " 'mean_test_score': array([0.98607966, 0.98538763, 0.98608208, 0.9812137 , 0.98260017,\n",
       "        0.98260017, 0.98260017, 0.98190331, 0.98121129, 0.97772938]),\n",
       " 'std_test_score': array([0.00381475, 0.00404852, 0.00220381, 0.00519037, 0.00221909,\n",
       "        0.00221909, 0.00221909, 0.00262625, 0.00169936, 0.00279615]),\n",
       " 'rank_test_score': array([ 2,  3,  1,  8,  4,  4,  4,  7,  9, 10])}"
      ]
     },
     "execution_count": 7,
     "metadata": {},
     "output_type": "execute_result"
    }
   ],
   "source": [
    "clf=GridSearchCV(knn,{\n",
    "    'n_neighbors':[1,2,3,4,5,6,7,8,9,10]\n",
    "},cv=5,return_train_score=False)\n",
    "clf.fit(xtrain,ytrain)\n",
    "clf.cv_results_"
   ]
  },
  {
   "cell_type": "code",
   "execution_count": 8,
   "id": "0f076307",
   "metadata": {},
   "outputs": [
    {
     "data": {
      "text/html": [
       "<div>\n",
       "<style scoped>\n",
       "    .dataframe tbody tr th:only-of-type {\n",
       "        vertical-align: middle;\n",
       "    }\n",
       "\n",
       "    .dataframe tbody tr th {\n",
       "        vertical-align: top;\n",
       "    }\n",
       "\n",
       "    .dataframe thead th {\n",
       "        text-align: right;\n",
       "    }\n",
       "</style>\n",
       "<table border=\"1\" class=\"dataframe\">\n",
       "  <thead>\n",
       "    <tr style=\"text-align: right;\">\n",
       "      <th></th>\n",
       "      <th>mean_fit_time</th>\n",
       "      <th>std_fit_time</th>\n",
       "      <th>mean_score_time</th>\n",
       "      <th>std_score_time</th>\n",
       "      <th>param_n_neighbors</th>\n",
       "      <th>params</th>\n",
       "      <th>split0_test_score</th>\n",
       "      <th>split1_test_score</th>\n",
       "      <th>split2_test_score</th>\n",
       "      <th>split3_test_score</th>\n",
       "      <th>split4_test_score</th>\n",
       "      <th>mean_test_score</th>\n",
       "      <th>std_test_score</th>\n",
       "      <th>rank_test_score</th>\n",
       "    </tr>\n",
       "  </thead>\n",
       "  <tbody>\n",
       "    <tr>\n",
       "      <th>0</th>\n",
       "      <td>0.002324</td>\n",
       "      <td>0.003649</td>\n",
       "      <td>0.004916</td>\n",
       "      <td>0.004784</td>\n",
       "      <td>1</td>\n",
       "      <td>{'n_neighbors': 1}</td>\n",
       "      <td>0.982639</td>\n",
       "      <td>0.993056</td>\n",
       "      <td>0.982578</td>\n",
       "      <td>0.986063</td>\n",
       "      <td>0.986063</td>\n",
       "      <td>0.986080</td>\n",
       "      <td>0.003815</td>\n",
       "      <td>2</td>\n",
       "    </tr>\n",
       "    <tr>\n",
       "      <th>1</th>\n",
       "      <td>0.000399</td>\n",
       "      <td>0.000488</td>\n",
       "      <td>0.004394</td>\n",
       "      <td>0.002243</td>\n",
       "      <td>2</td>\n",
       "      <td>{'n_neighbors': 2}</td>\n",
       "      <td>0.979167</td>\n",
       "      <td>0.989583</td>\n",
       "      <td>0.982578</td>\n",
       "      <td>0.989547</td>\n",
       "      <td>0.986063</td>\n",
       "      <td>0.985388</td>\n",
       "      <td>0.004049</td>\n",
       "      <td>3</td>\n",
       "    </tr>\n",
       "    <tr>\n",
       "      <th>2</th>\n",
       "      <td>0.003124</td>\n",
       "      <td>0.006249</td>\n",
       "      <td>0.004305</td>\n",
       "      <td>0.006107</td>\n",
       "      <td>3</td>\n",
       "      <td>{'n_neighbors': 3}</td>\n",
       "      <td>0.986111</td>\n",
       "      <td>0.986111</td>\n",
       "      <td>0.982578</td>\n",
       "      <td>0.989547</td>\n",
       "      <td>0.986063</td>\n",
       "      <td>0.986082</td>\n",
       "      <td>0.002204</td>\n",
       "      <td>1</td>\n",
       "    </tr>\n",
       "    <tr>\n",
       "      <th>3</th>\n",
       "      <td>0.000000</td>\n",
       "      <td>0.000000</td>\n",
       "      <td>0.004125</td>\n",
       "      <td>0.006072</td>\n",
       "      <td>4</td>\n",
       "      <td>{'n_neighbors': 4}</td>\n",
       "      <td>0.986111</td>\n",
       "      <td>0.972222</td>\n",
       "      <td>0.982578</td>\n",
       "      <td>0.986063</td>\n",
       "      <td>0.979094</td>\n",
       "      <td>0.981214</td>\n",
       "      <td>0.005190</td>\n",
       "      <td>8</td>\n",
       "    </tr>\n",
       "    <tr>\n",
       "      <th>4</th>\n",
       "      <td>0.000000</td>\n",
       "      <td>0.000000</td>\n",
       "      <td>0.006249</td>\n",
       "      <td>0.007653</td>\n",
       "      <td>5</td>\n",
       "      <td>{'n_neighbors': 5}</td>\n",
       "      <td>0.986111</td>\n",
       "      <td>0.982639</td>\n",
       "      <td>0.979094</td>\n",
       "      <td>0.982578</td>\n",
       "      <td>0.982578</td>\n",
       "      <td>0.982600</td>\n",
       "      <td>0.002219</td>\n",
       "      <td>4</td>\n",
       "    </tr>\n",
       "    <tr>\n",
       "      <th>5</th>\n",
       "      <td>0.000000</td>\n",
       "      <td>0.000000</td>\n",
       "      <td>0.006248</td>\n",
       "      <td>0.007653</td>\n",
       "      <td>6</td>\n",
       "      <td>{'n_neighbors': 6}</td>\n",
       "      <td>0.986111</td>\n",
       "      <td>0.982639</td>\n",
       "      <td>0.982578</td>\n",
       "      <td>0.982578</td>\n",
       "      <td>0.979094</td>\n",
       "      <td>0.982600</td>\n",
       "      <td>0.002219</td>\n",
       "      <td>4</td>\n",
       "    </tr>\n",
       "    <tr>\n",
       "      <th>6</th>\n",
       "      <td>0.000000</td>\n",
       "      <td>0.000000</td>\n",
       "      <td>0.006267</td>\n",
       "      <td>0.007676</td>\n",
       "      <td>7</td>\n",
       "      <td>{'n_neighbors': 7}</td>\n",
       "      <td>0.986111</td>\n",
       "      <td>0.982639</td>\n",
       "      <td>0.982578</td>\n",
       "      <td>0.982578</td>\n",
       "      <td>0.979094</td>\n",
       "      <td>0.982600</td>\n",
       "      <td>0.002219</td>\n",
       "      <td>4</td>\n",
       "    </tr>\n",
       "    <tr>\n",
       "      <th>7</th>\n",
       "      <td>0.000000</td>\n",
       "      <td>0.000000</td>\n",
       "      <td>0.003125</td>\n",
       "      <td>0.006249</td>\n",
       "      <td>8</td>\n",
       "      <td>{'n_neighbors': 8}</td>\n",
       "      <td>0.986111</td>\n",
       "      <td>0.982639</td>\n",
       "      <td>0.982578</td>\n",
       "      <td>0.979094</td>\n",
       "      <td>0.979094</td>\n",
       "      <td>0.981903</td>\n",
       "      <td>0.002626</td>\n",
       "      <td>7</td>\n",
       "    </tr>\n",
       "    <tr>\n",
       "      <th>8</th>\n",
       "      <td>0.000204</td>\n",
       "      <td>0.000408</td>\n",
       "      <td>0.007290</td>\n",
       "      <td>0.005068</td>\n",
       "      <td>9</td>\n",
       "      <td>{'n_neighbors': 9}</td>\n",
       "      <td>0.979167</td>\n",
       "      <td>0.982639</td>\n",
       "      <td>0.982578</td>\n",
       "      <td>0.979094</td>\n",
       "      <td>0.982578</td>\n",
       "      <td>0.981211</td>\n",
       "      <td>0.001699</td>\n",
       "      <td>9</td>\n",
       "    </tr>\n",
       "    <tr>\n",
       "      <th>9</th>\n",
       "      <td>0.000598</td>\n",
       "      <td>0.000488</td>\n",
       "      <td>0.005725</td>\n",
       "      <td>0.001915</td>\n",
       "      <td>10</td>\n",
       "      <td>{'n_neighbors': 10}</td>\n",
       "      <td>0.975694</td>\n",
       "      <td>0.982639</td>\n",
       "      <td>0.975610</td>\n",
       "      <td>0.975610</td>\n",
       "      <td>0.979094</td>\n",
       "      <td>0.977729</td>\n",
       "      <td>0.002796</td>\n",
       "      <td>10</td>\n",
       "    </tr>\n",
       "  </tbody>\n",
       "</table>\n",
       "</div>"
      ],
      "text/plain": [
       "   mean_fit_time  std_fit_time  mean_score_time  std_score_time  \\\n",
       "0       0.002324      0.003649         0.004916        0.004784   \n",
       "1       0.000399      0.000488         0.004394        0.002243   \n",
       "2       0.003124      0.006249         0.004305        0.006107   \n",
       "3       0.000000      0.000000         0.004125        0.006072   \n",
       "4       0.000000      0.000000         0.006249        0.007653   \n",
       "5       0.000000      0.000000         0.006248        0.007653   \n",
       "6       0.000000      0.000000         0.006267        0.007676   \n",
       "7       0.000000      0.000000         0.003125        0.006249   \n",
       "8       0.000204      0.000408         0.007290        0.005068   \n",
       "9       0.000598      0.000488         0.005725        0.001915   \n",
       "\n",
       "  param_n_neighbors               params  split0_test_score  \\\n",
       "0                 1   {'n_neighbors': 1}           0.982639   \n",
       "1                 2   {'n_neighbors': 2}           0.979167   \n",
       "2                 3   {'n_neighbors': 3}           0.986111   \n",
       "3                 4   {'n_neighbors': 4}           0.986111   \n",
       "4                 5   {'n_neighbors': 5}           0.986111   \n",
       "5                 6   {'n_neighbors': 6}           0.986111   \n",
       "6                 7   {'n_neighbors': 7}           0.986111   \n",
       "7                 8   {'n_neighbors': 8}           0.986111   \n",
       "8                 9   {'n_neighbors': 9}           0.979167   \n",
       "9                10  {'n_neighbors': 10}           0.975694   \n",
       "\n",
       "   split1_test_score  split2_test_score  split3_test_score  split4_test_score  \\\n",
       "0           0.993056           0.982578           0.986063           0.986063   \n",
       "1           0.989583           0.982578           0.989547           0.986063   \n",
       "2           0.986111           0.982578           0.989547           0.986063   \n",
       "3           0.972222           0.982578           0.986063           0.979094   \n",
       "4           0.982639           0.979094           0.982578           0.982578   \n",
       "5           0.982639           0.982578           0.982578           0.979094   \n",
       "6           0.982639           0.982578           0.982578           0.979094   \n",
       "7           0.982639           0.982578           0.979094           0.979094   \n",
       "8           0.982639           0.982578           0.979094           0.982578   \n",
       "9           0.982639           0.975610           0.975610           0.979094   \n",
       "\n",
       "   mean_test_score  std_test_score  rank_test_score  \n",
       "0         0.986080        0.003815                2  \n",
       "1         0.985388        0.004049                3  \n",
       "2         0.986082        0.002204                1  \n",
       "3         0.981214        0.005190                8  \n",
       "4         0.982600        0.002219                4  \n",
       "5         0.982600        0.002219                4  \n",
       "6         0.982600        0.002219                4  \n",
       "7         0.981903        0.002626                7  \n",
       "8         0.981211        0.001699                9  \n",
       "9         0.977729        0.002796               10  "
      ]
     },
     "execution_count": 8,
     "metadata": {},
     "output_type": "execute_result"
    }
   ],
   "source": [
    "df=pd.DataFrame(clf.cv_results_)\n",
    "df"
   ]
  },
  {
   "cell_type": "code",
   "execution_count": 9,
   "id": "a5634483",
   "metadata": {},
   "outputs": [
    {
     "data": {
      "text/html": [
       "<div>\n",
       "<style scoped>\n",
       "    .dataframe tbody tr th:only-of-type {\n",
       "        vertical-align: middle;\n",
       "    }\n",
       "\n",
       "    .dataframe tbody tr th {\n",
       "        vertical-align: top;\n",
       "    }\n",
       "\n",
       "    .dataframe thead th {\n",
       "        text-align: right;\n",
       "    }\n",
       "</style>\n",
       "<table border=\"1\" class=\"dataframe\">\n",
       "  <thead>\n",
       "    <tr style=\"text-align: right;\">\n",
       "      <th></th>\n",
       "      <th>param_n_neighbors</th>\n",
       "      <th>mean_test_score</th>\n",
       "    </tr>\n",
       "  </thead>\n",
       "  <tbody>\n",
       "    <tr>\n",
       "      <th>0</th>\n",
       "      <td>1</td>\n",
       "      <td>0.986080</td>\n",
       "    </tr>\n",
       "    <tr>\n",
       "      <th>1</th>\n",
       "      <td>2</td>\n",
       "      <td>0.985388</td>\n",
       "    </tr>\n",
       "    <tr>\n",
       "      <th>2</th>\n",
       "      <td>3</td>\n",
       "      <td>0.986082</td>\n",
       "    </tr>\n",
       "    <tr>\n",
       "      <th>3</th>\n",
       "      <td>4</td>\n",
       "      <td>0.981214</td>\n",
       "    </tr>\n",
       "    <tr>\n",
       "      <th>4</th>\n",
       "      <td>5</td>\n",
       "      <td>0.982600</td>\n",
       "    </tr>\n",
       "    <tr>\n",
       "      <th>5</th>\n",
       "      <td>6</td>\n",
       "      <td>0.982600</td>\n",
       "    </tr>\n",
       "    <tr>\n",
       "      <th>6</th>\n",
       "      <td>7</td>\n",
       "      <td>0.982600</td>\n",
       "    </tr>\n",
       "    <tr>\n",
       "      <th>7</th>\n",
       "      <td>8</td>\n",
       "      <td>0.981903</td>\n",
       "    </tr>\n",
       "    <tr>\n",
       "      <th>8</th>\n",
       "      <td>9</td>\n",
       "      <td>0.981211</td>\n",
       "    </tr>\n",
       "    <tr>\n",
       "      <th>9</th>\n",
       "      <td>10</td>\n",
       "      <td>0.977729</td>\n",
       "    </tr>\n",
       "  </tbody>\n",
       "</table>\n",
       "</div>"
      ],
      "text/plain": [
       "  param_n_neighbors  mean_test_score\n",
       "0                 1         0.986080\n",
       "1                 2         0.985388\n",
       "2                 3         0.986082\n",
       "3                 4         0.981214\n",
       "4                 5         0.982600\n",
       "5                 6         0.982600\n",
       "6                 7         0.982600\n",
       "7                 8         0.981903\n",
       "8                 9         0.981211\n",
       "9                10         0.977729"
      ]
     },
     "execution_count": 9,
     "metadata": {},
     "output_type": "execute_result"
    }
   ],
   "source": [
    "df[['param_n_neighbors','mean_test_score']]"
   ]
  },
  {
   "cell_type": "code",
   "execution_count": 12,
   "id": "4cd4fd6b",
   "metadata": {},
   "outputs": [],
   "source": [
    "ypredict=knn.predict(xtest)\n"
   ]
  },
  {
   "cell_type": "code",
   "execution_count": 13,
   "id": "e01309df",
   "metadata": {},
   "outputs": [
    {
     "data": {
      "text/plain": [
       "array([[34,  0,  0,  0,  0,  0,  0,  0,  0,  0],\n",
       "       [ 0, 43,  0,  0,  0,  0,  0,  0,  0,  0],\n",
       "       [ 0,  0, 30,  0,  0,  0,  0,  0,  0,  0],\n",
       "       [ 0,  0,  0, 40,  0,  0,  0,  0,  0,  0],\n",
       "       [ 0,  0,  0,  0, 43,  0,  0,  0,  0,  0],\n",
       "       [ 0,  0,  0,  0,  0, 27,  0,  0,  0,  0],\n",
       "       [ 0,  0,  0,  0,  0,  0, 32,  0,  1,  0],\n",
       "       [ 0,  0,  0,  0,  0,  0,  0, 40,  0,  0],\n",
       "       [ 0,  0,  0,  0,  0,  0,  0,  0, 34,  0],\n",
       "       [ 0,  0,  0,  1,  1,  1,  0,  0,  0, 33]], dtype=int64)"
      ]
     },
     "execution_count": 13,
     "metadata": {},
     "output_type": "execute_result"
    }
   ],
   "source": [
    "from sklearn.metrics import confusion_matrix\n",
    "cm=confusion_matrix(ytest,ypredict)\n",
    "cm"
   ]
  },
  {
   "cell_type": "code",
   "execution_count": 14,
   "id": "26b50340",
   "metadata": {},
   "outputs": [],
   "source": [
    "import seaborn as sns\n"
   ]
  },
  {
   "cell_type": "code",
   "execution_count": 15,
   "id": "b5750833",
   "metadata": {},
   "outputs": [
    {
     "data": {
      "image/png": "[encoded data removed]",
      "text/plain": [
       "<Figure size 640x480 with 2 Axes>"
      ]
     },
     "metadata": {},
     "output_type": "display_data"
    }
   ],
   "source": [
    "sns.heatmap(cm,annot=True)\n",
    "plt.xlabel('ypredict')\n",
    "plt.ylabel('truth')\n",
    "plt.show()\n"
   ]
  },
  {
   "cell_type": "code",
   "execution_count": null,
   "id": "f0c40b7e",
   "metadata": {},
   "outputs": [],
   "source": []
  }
 ],
 "metadata": {
  "kernelspec": {
   "display_name": "Python 3 (ipykernel)",
   "language": "python",
   "name": "python3"
  },
  "language_info": {
   "codemirror_mode": {
    "name": "ipython",
    "version": 3
   },
   "file_extension": ".py",
   "mimetype": "text/x-python",
   "name": "python",
   "nbconvert_exporter": "python",
   "pygments_lexer": "ipython3",
   "version": "3.10.2"
  }
 },
 "nbformat": 4,
 "nbformat_minor": 5
}
